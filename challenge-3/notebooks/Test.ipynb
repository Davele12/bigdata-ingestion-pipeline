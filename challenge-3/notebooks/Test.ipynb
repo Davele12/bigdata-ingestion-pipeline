{
 "cells": [
  {
   "cell_type": "code",
   "execution_count": 2,
   "id": "d0872c7e-7503-43f7-8f56-1dace8f0ac47",
   "metadata": {},
   "outputs": [
    {
     "name": "stdout",
     "output_type": "stream",
     "text": [
      "Archivo escrito en MinIO\n"
     ]
    }
   ],
   "source": [
    "import os\n",
    "from pyspark.sql import SparkSession\n",
    "\n",
    "endpoint = os.environ.get(\"MINIO_ENDPOINT\", \"minio:9000\")\n",
    "access = os.environ[\"AWS_ACCESS_KEY_ID\"]\n",
    "secret = os.environ[\"AWS_SECRET_ACCESS_KEY\"]\n",
    "bucket = os.environ.get(\"MINIO_BUCKET\", \"data\")\n",
    "\n",
    "spark = (\n",
    "    SparkSession.builder.appName(\"TestMinIO\")\n",
    "    .config(\"spark.hadoop.fs.s3a.endpoint\", f\"http://{endpoint}\")\n",
    "    .config(\"spark.hadoop.fs.s3a.access.key\", access)\n",
    "    .config(\"spark.hadoop.fs.s3a.secret.key\", secret)\n",
    "    .config(\"spark.hadoop.fs.s3a.path.style.access\", \"true\")\n",
    "    .config(\"spark.hadoop.fs.s3a.impl\", \"org.apache.hadoop.fs.s3a.S3AFileSystem\")\n",
    "    .getOrCreate()\n",
    ")\n",
    "\n",
    "df = spark.createDataFrame([(1, \"hola\"), (2, \"mundo\")], [\"id\", \"msg\"])\n",
    "df.write.mode(\"overwrite\").csv(f\"s3a://{bucket}/test_csv\")\n",
    "\n",
    "print(\"Archivo escrito en MinIO\")\n"
   ]
  },
  {
   "cell_type": "code",
   "execution_count": null,
   "id": "5bbb8dce-d6f2-4f9e-9f96-89a9edac5a55",
   "metadata": {},
   "outputs": [],
   "source": []
  }
 ],
 "metadata": {
  "kernelspec": {
   "display_name": "Python 3 (ipykernel)",
   "language": "python",
   "name": "python3"
  },
  "language_info": {
   "codemirror_mode": {
    "name": "ipython",
    "version": 3
   },
   "file_extension": ".py",
   "mimetype": "text/x-python",
   "name": "python",
   "nbconvert_exporter": "python",
   "pygments_lexer": "ipython3",
   "version": "3.11.6"
  }
 },
 "nbformat": 4,
 "nbformat_minor": 5
}
